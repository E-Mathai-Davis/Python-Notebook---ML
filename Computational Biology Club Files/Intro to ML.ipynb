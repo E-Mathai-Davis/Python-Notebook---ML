{
 "cells": [
  {
   "cell_type": "markdown",
   "metadata": {},
   "source": [
    "# Lesson 0: Machine learning overview\n",
    "In this notebook, we will demonstrate machine learning with examples.\n",
    "Some things to keep an eye out for:\n",
    "1) Statistical Models: We use these to better approach data\n",
    "2) Linear Algebra: makes the math faster and (potentially) easier to understand"
   ]
  },
  {
   "cell_type": "markdown",
   "metadata": {},
   "source": [
    "#1: introduce machine learning\n",
    "    definition not necessary\n",
    "    demonstrate!\n",
    "\n",
    "#2: supervised vs unsupervised\n",
    "    examples of algorithms\n",
    "\n",
    "#3: introduce PyTorch/Tensorflow\n",
    "    covering this...."
   ]
  }
 ],
 "metadata": {
  "language_info": {
   "name": "python"
  }
 },
 "nbformat": 4,
 "nbformat_minor": 2
}
