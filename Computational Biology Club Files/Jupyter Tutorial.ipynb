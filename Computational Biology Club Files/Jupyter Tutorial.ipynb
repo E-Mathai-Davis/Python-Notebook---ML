{
 "cells": [
  {
   "cell_type": "markdown",
   "metadata": {},
   "source": [
    "## Tutorial: Jupyter Notebook Overview\n",
    "Welcome! Before we begin, I would like to give everyone a quick tour of Jupyter notebooks. I will go over relevant information here concerning running a notebook and understanding all the key details. Don't worry - this will be really simple!"
   ]
  }
 ],
 "metadata": {
  "language_info": {
   "name": "python"
  }
 },
 "nbformat": 4,
 "nbformat_minor": 2
}
